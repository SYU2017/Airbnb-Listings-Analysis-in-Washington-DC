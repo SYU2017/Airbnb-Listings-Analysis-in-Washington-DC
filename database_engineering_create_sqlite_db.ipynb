{
 "cells": [
  {
   "cell_type": "code",
   "execution_count": 9,
   "metadata": {
    "collapsed": true
   },
   "outputs": [],
   "source": [
    "# Dependencies\n",
    "from numpy import genfromtxt\n",
    "from time import time\n",
    "from datetime import datetime\n",
    "from sqlalchemy import Column, Integer, Float, Date, String, ForeignKey\n",
    "from sqlalchemy.ext.declarative import declarative_base\n",
    "from sqlalchemy import create_engine\n",
    "from sqlalchemy.orm import sessionmaker\n",
    "from sqlalchemy.orm import Session\n",
    "from sqlalchemy import Index\n",
    "from sqlalchemy import MetaData\n",
    "from sqlalchemy import Table\n",
    "import csv\n",
    "import pandas as pd\n",
    "from sqlalchemy.ext.automap import automap_base\n",
    "from sqlalchemy import create_engine, inspect\n",
    "from sqlalchemy import func"
   ]
  },
  {
   "cell_type": "code",
   "execution_count": 10,
   "metadata": {},
   "outputs": [
    {
     "data": {
      "text/html": [
       "<div>\n",
       "<style>\n",
       "    .dataframe thead tr:only-child th {\n",
       "        text-align: right;\n",
       "    }\n",
       "\n",
       "    .dataframe thead th {\n",
       "        text-align: left;\n",
       "    }\n",
       "\n",
       "    .dataframe tbody tr th {\n",
       "        vertical-align: top;\n",
       "    }\n",
       "</style>\n",
       "<table border=\"1\" class=\"dataframe\">\n",
       "  <thead>\n",
       "    <tr style=\"text-align: right;\">\n",
       "      <th></th>\n",
       "      <th>airbnb_id</th>\n",
       "      <th>name</th>\n",
       "      <th>host_id</th>\n",
       "      <th>host_name</th>\n",
       "      <th>neighbourhood</th>\n",
       "      <th>latitude</th>\n",
       "      <th>longitude</th>\n",
       "      <th>room_type</th>\n",
       "      <th>price</th>\n",
       "      <th>minimum_nights</th>\n",
       "      <th>number_of_reviews</th>\n",
       "      <th>reviews_per_month</th>\n",
       "      <th>calculated_host_listings_count</th>\n",
       "      <th>availability_365</th>\n",
       "    </tr>\n",
       "  </thead>\n",
       "  <tbody>\n",
       "    <tr>\n",
       "      <th>0</th>\n",
       "      <td>4873463</td>\n",
       "      <td>Cozy Pied-a-Terre, the Heart of DC</td>\n",
       "      <td>7220554</td>\n",
       "      <td>TheoDora</td>\n",
       "      <td>Dupont Circle, Connecticut Avenue,K Street</td>\n",
       "      <td>38.915183</td>\n",
       "      <td>-77.039259</td>\n",
       "      <td>Entire home,apt</td>\n",
       "      <td>95</td>\n",
       "      <td>2</td>\n",
       "      <td>29</td>\n",
       "      <td>1.01</td>\n",
       "      <td>3</td>\n",
       "      <td>53</td>\n",
       "    </tr>\n",
       "    <tr>\n",
       "      <th>1</th>\n",
       "      <td>16736650</td>\n",
       "      <td>Large, welcoming studio in a central location</td>\n",
       "      <td>47945335</td>\n",
       "      <td>Nina</td>\n",
       "      <td>Dupont Circle, Connecticut Avenue,K Street</td>\n",
       "      <td>38.912580</td>\n",
       "      <td>-77.042721</td>\n",
       "      <td>Entire home,apt</td>\n",
       "      <td>200</td>\n",
       "      <td>1</td>\n",
       "      <td>2</td>\n",
       "      <td>0.55</td>\n",
       "      <td>1</td>\n",
       "      <td>0</td>\n",
       "    </tr>\n",
       "    <tr>\n",
       "      <th>2</th>\n",
       "      <td>14999877</td>\n",
       "      <td>Newly Renovated Apartment in the Heart of DC</td>\n",
       "      <td>10325135</td>\n",
       "      <td>Rory</td>\n",
       "      <td>Dupont Circle, Connecticut Avenue,K Street</td>\n",
       "      <td>38.917062</td>\n",
       "      <td>-77.035869</td>\n",
       "      <td>Entire home,apt</td>\n",
       "      <td>100</td>\n",
       "      <td>27</td>\n",
       "      <td>0</td>\n",
       "      <td>0.00</td>\n",
       "      <td>1</td>\n",
       "      <td>0</td>\n",
       "    </tr>\n",
       "    <tr>\n",
       "      <th>3</th>\n",
       "      <td>5955860</td>\n",
       "      <td>Spacious Dupont Circle Condo</td>\n",
       "      <td>3873893</td>\n",
       "      <td>Feras</td>\n",
       "      <td>Dupont Circle, Connecticut Avenue,K Street</td>\n",
       "      <td>38.909815</td>\n",
       "      <td>-77.046124</td>\n",
       "      <td>Entire home,apt</td>\n",
       "      <td>129</td>\n",
       "      <td>2</td>\n",
       "      <td>79</td>\n",
       "      <td>3.13</td>\n",
       "      <td>2</td>\n",
       "      <td>324</td>\n",
       "    </tr>\n",
       "    <tr>\n",
       "      <th>4</th>\n",
       "      <td>15655208</td>\n",
       "      <td>Luxury historic rowhouse; Adams Morgan,Dupont,...</td>\n",
       "      <td>73613929</td>\n",
       "      <td>Courtney</td>\n",
       "      <td>Dupont Circle, Connecticut Avenue,K Street</td>\n",
       "      <td>38.916759</td>\n",
       "      <td>-77.040349</td>\n",
       "      <td>Entire home,apt</td>\n",
       "      <td>500</td>\n",
       "      <td>2</td>\n",
       "      <td>1</td>\n",
       "      <td>1.00</td>\n",
       "      <td>1</td>\n",
       "      <td>81</td>\n",
       "    </tr>\n",
       "  </tbody>\n",
       "</table>\n",
       "</div>"
      ],
      "text/plain": [
       "   airbnb_id                                               name   host_id  \\\n",
       "0    4873463                 Cozy Pied-a-Terre, the Heart of DC   7220554   \n",
       "1   16736650      Large, welcoming studio in a central location  47945335   \n",
       "2   14999877       Newly Renovated Apartment in the Heart of DC  10325135   \n",
       "3    5955860                       Spacious Dupont Circle Condo   3873893   \n",
       "4   15655208  Luxury historic rowhouse; Adams Morgan,Dupont,...  73613929   \n",
       "\n",
       "  host_name                               neighbourhood   latitude  longitude  \\\n",
       "0  TheoDora  Dupont Circle, Connecticut Avenue,K Street  38.915183 -77.039259   \n",
       "1      Nina  Dupont Circle, Connecticut Avenue,K Street  38.912580 -77.042721   \n",
       "2      Rory  Dupont Circle, Connecticut Avenue,K Street  38.917062 -77.035869   \n",
       "3     Feras  Dupont Circle, Connecticut Avenue,K Street  38.909815 -77.046124   \n",
       "4  Courtney  Dupont Circle, Connecticut Avenue,K Street  38.916759 -77.040349   \n",
       "\n",
       "         room_type  price  minimum_nights  number_of_reviews  \\\n",
       "0  Entire home,apt     95               2                 29   \n",
       "1  Entire home,apt    200               1                  2   \n",
       "2  Entire home,apt    100              27                  0   \n",
       "3  Entire home,apt    129               2                 79   \n",
       "4  Entire home,apt    500               2                  1   \n",
       "\n",
       "   reviews_per_month  calculated_host_listings_count  availability_365  \n",
       "0               1.01                               3                53  \n",
       "1               0.55                               1                 0  \n",
       "2               0.00                               1                 0  \n",
       "3               3.13                               2               324  \n",
       "4               1.00                               1                81  "
      ]
     },
     "execution_count": 10,
     "metadata": {},
     "output_type": "execute_result"
    }
   ],
   "source": [
    "clean_listings = \"clean_listing_data.csv\"\n",
    "clean_listings_df = pd.read_csv(clean_listings, encoding=\"utf-8\", low_memory=False )\n",
    "clean_listings_df[\"name\"] = clean_listings_df[\"name\"].astype(str)\n",
    "clean_listings_df[\"neighbourhood\"] = clean_listings_df[\"neighbourhood\"].astype(str)\n",
    "clean_listings_df.head()"
   ]
  },
  {
   "cell_type": "code",
   "execution_count": 11,
   "metadata": {},
   "outputs": [
    {
     "data": {
      "text/plain": [
       "airbnb_id                           int64\n",
       "name                               object\n",
       "host_id                             int64\n",
       "host_name                          object\n",
       "neighbourhood                      object\n",
       "latitude                          float64\n",
       "longitude                         float64\n",
       "room_type                          object\n",
       "price                               int64\n",
       "minimum_nights                      int64\n",
       "number_of_reviews                   int64\n",
       "reviews_per_month                 float64\n",
       "calculated_host_listings_count      int64\n",
       "availability_365                    int64\n",
       "dtype: object"
      ]
     },
     "execution_count": 11,
     "metadata": {},
     "output_type": "execute_result"
    }
   ],
   "source": [
    "clean_listings_df.dtypes"
   ]
  },
  {
   "cell_type": "code",
   "execution_count": 12,
   "metadata": {},
   "outputs": [
    {
     "data": {
      "text/html": [
       "<div>\n",
       "<style>\n",
       "    .dataframe thead tr:only-child th {\n",
       "        text-align: right;\n",
       "    }\n",
       "\n",
       "    .dataframe thead th {\n",
       "        text-align: left;\n",
       "    }\n",
       "\n",
       "    .dataframe tbody tr th {\n",
       "        vertical-align: top;\n",
       "    }\n",
       "</style>\n",
       "<table border=\"1\" class=\"dataframe\">\n",
       "  <thead>\n",
       "    <tr style=\"text-align: right;\">\n",
       "      <th></th>\n",
       "      <th>neighbourhood</th>\n",
       "      <th>neighirhood_cluster</th>\n",
       "      <th>number_of_crimes</th>\n",
       "      <th>crime_rate</th>\n",
       "    </tr>\n",
       "  </thead>\n",
       "  <tbody>\n",
       "    <tr>\n",
       "      <th>0</th>\n",
       "      <td>Brightwood Park, Crestwood, Petworth</td>\n",
       "      <td>Cluster 18</td>\n",
       "      <td>1411</td>\n",
       "      <td>4.314457</td>\n",
       "    </tr>\n",
       "    <tr>\n",
       "      <th>1</th>\n",
       "      <td>Brookland, Brentwood, Langdon</td>\n",
       "      <td>Cluster 22</td>\n",
       "      <td>1244</td>\n",
       "      <td>3.803816</td>\n",
       "    </tr>\n",
       "    <tr>\n",
       "      <th>2</th>\n",
       "      <td>Capitol Hill, Lincoln Park</td>\n",
       "      <td>Cluster 26</td>\n",
       "      <td>1461</td>\n",
       "      <td>4.467343</td>\n",
       "    </tr>\n",
       "    <tr>\n",
       "      <th>3</th>\n",
       "      <td>Capitol View, Marshall Heights, Benning Heights</td>\n",
       "      <td>Cluster 33</td>\n",
       "      <td>923</td>\n",
       "      <td>2.822285</td>\n",
       "    </tr>\n",
       "    <tr>\n",
       "      <th>4</th>\n",
       "      <td>Cathedral Heights, McLean Gardens, Glover Park</td>\n",
       "      <td>Cluster 14</td>\n",
       "      <td>235</td>\n",
       "      <td>0.718567</td>\n",
       "    </tr>\n",
       "  </tbody>\n",
       "</table>\n",
       "</div>"
      ],
      "text/plain": [
       "                                     neighbourhood neighirhood_cluster  \\\n",
       "0             Brightwood Park, Crestwood, Petworth          Cluster 18   \n",
       "1                    Brookland, Brentwood, Langdon          Cluster 22   \n",
       "2                       Capitol Hill, Lincoln Park          Cluster 26   \n",
       "3  Capitol View, Marshall Heights, Benning Heights          Cluster 33   \n",
       "4   Cathedral Heights, McLean Gardens, Glover Park          Cluster 14   \n",
       "\n",
       "   number_of_crimes  crime_rate  \n",
       "0              1411    4.314457  \n",
       "1              1244    3.803816  \n",
       "2              1461    4.467343  \n",
       "3               923    2.822285  \n",
       "4               235    0.718567  "
      ]
     },
     "execution_count": 12,
     "metadata": {},
     "output_type": "execute_result"
    }
   ],
   "source": [
    "clean_crime = \"clean_crime_data.csv\"\n",
    "clean_crime_df = pd.read_csv(clean_crime, encoding=\"utf-8\", low_memory=False)\n",
    "\n",
    "clean_crime_df.head()"
   ]
  },
  {
   "cell_type": "code",
   "execution_count": 13,
   "metadata": {},
   "outputs": [
    {
     "data": {
      "text/plain": [
       "neighbourhood           object\n",
       "neighirhood_cluster     object\n",
       "number_of_crimes         int64\n",
       "crime_rate             float64\n",
       "dtype: object"
      ]
     },
     "execution_count": 13,
     "metadata": {},
     "output_type": "execute_result"
    }
   ],
   "source": [
    "clean_crime_df.dtypes\n"
   ]
  },
  {
   "cell_type": "code",
   "execution_count": 14,
   "metadata": {},
   "outputs": [],
   "source": [
    "Base = declarative_base()\n",
    "class Listings(Base):\n",
    "    __tablename__ = 'listings_table'\n",
    "    id = Column(Integer, primary_key=True, nullable=False)\n",
    "    airbnb_id = Column(Integer)  \n",
    "    name = Column(String(255))\n",
    "    host_id = Column(Integer)                         \n",
    "    host_name = Column(String(255))                        \n",
    "    neighbourhood = Column(String(255))                  \n",
    "    latitude = Column(Float)         \n",
    "    longitude = Column(Float)                         \n",
    "    room_type = Column(String(255))                        \n",
    "    price = Column(Integer)                             \n",
    "    minimum_nights  = Column(Integer)                    \n",
    "    number_of_reviews  = Column(Integer)                   \n",
    "    reviews_per_month = Column(Float)               \n",
    "    calculated_host_listings_count = Column(Integer)     \n",
    "    availability_365 = Column(Integer)                 \n",
    "   \n",
    "\n",
    "engine = create_engine(\"sqlite:///DC_airbnb.db\")\n",
    "Base.metadata.create_all(engine)\n",
    "\n",
    "#Create the session\n",
    "session = Session(bind=engine)"
   ]
  },
  {
   "cell_type": "code",
   "execution_count": 15,
   "metadata": {
    "collapsed": true
   },
   "outputs": [],
   "source": [
    "for i, row in clean_listings_df.iterrows():\n",
    "    \n",
    "    record = Listings(**{\n",
    "        'airbnb_id' : row.airbnb_id,\n",
    "        'name' : row.name,\n",
    "        'host_id' : row.host_id,                       \n",
    "        'host_name': row.host_name,                       \n",
    "        'neighbourhood' : row.neighbourhood,                \n",
    "        'latitude' : row.latitude,                       \n",
    "        'longitude' : row.longitude,                         \n",
    "        'room_type' : row.room_type,                       \n",
    "        'price' : row.price,                              \n",
    "        'minimum_nights' : row.minimum_nights,                    \n",
    "        'number_of_reviews' : row.number_of_reviews,                   \n",
    "        'reviews_per_month': row.reviews_per_month,                \n",
    "        'calculated_host_listings_count' : row.calculated_host_listings_count,     \n",
    "        'availability_365':row.availability_365 \n",
    "})\n",
    "\n",
    "    session.add(record)\n",
    "session.commit()"
   ]
  },
  {
   "cell_type": "code",
   "execution_count": 16,
   "metadata": {},
   "outputs": [
    {
     "data": {
      "text/plain": [
       "airbnb_id                                                                18364166\n",
       "name                                            Great PRV 1bd,1bath 2blocks to DC\n",
       "host_id                                                                  23405709\n",
       "host_name                                                                Samantha\n",
       "neighbourhood                     Capitol View, Marshall Heights, Benning Heights\n",
       "latitude                                                                  38.8854\n",
       "longitude                                                                -76.9166\n",
       "room_type                                                            Private room\n",
       "price                                                                           0\n",
       "minimum_nights                                                                  1\n",
       "number_of_reviews                                                               0\n",
       "reviews_per_month                                                               0\n",
       "calculated_host_listings_count                                                  1\n",
       "availability_365                                                              359\n",
       "Name: 7780, dtype: object"
      ]
     },
     "execution_count": 16,
     "metadata": {},
     "output_type": "execute_result"
    }
   ],
   "source": [
    "row"
   ]
  },
  {
   "cell_type": "code",
   "execution_count": 17,
   "metadata": {
    "collapsed": true
   },
   "outputs": [],
   "source": [
    "\n",
    "Base = declarative_base()\n",
    "class Crime(Base):\n",
    "    __tablename__ = 'crime_table'\n",
    "\n",
    "    id = Column(Integer, primary_key=True, nullable=False)\n",
    "    neighirhood_cluster = Column(String(225))\n",
    "    number_of_crimes = Column(Integer)\n",
    "    neighbourhood  = Column(String(255)) \n",
    "    crime_rate =  Column(Float)\n",
    "\n",
    "\n",
    "engine = create_engine(\"sqlite:///DC_airbnb.db\")\n",
    "Base.metadata.create_all(engine)\n",
    "\n",
    "#Create the session\n",
    "session = Session(bind=engine)"
   ]
  },
  {
   "cell_type": "code",
   "execution_count": 18,
   "metadata": {
    "collapsed": true
   },
   "outputs": [],
   "source": [
    "for i, row in clean_crime_df.iterrows():\n",
    "    record = Crime(**{\n",
    "         'neighirhood_cluster' : row.neighirhood_cluster,\n",
    "         'number_of_crimes': row.number_of_crimes,\n",
    "         'neighbourhood': row.neighbourhood,\n",
    "         'crime_rate': row.crime_rate,\n",
    "        \n",
    "         \n",
    "})\n",
    "\n",
    "    session.add(record)\n",
    "session.commit()"
   ]
  },
  {
   "cell_type": "code",
   "execution_count": 19,
   "metadata": {},
   "outputs": [
    {
     "data": {
      "text/plain": [
       "neighbourhood          Woodridge, Fort Lincoln, Gateway\n",
       "neighirhood_cluster                          Cluster 24\n",
       "number_of_crimes                                    589\n",
       "crime_rate                                        1.801\n",
       "Name: 38, dtype: object"
      ]
     },
     "execution_count": 19,
     "metadata": {},
     "output_type": "execute_result"
    }
   ],
   "source": [
    "row"
   ]
  },
  {
   "cell_type": "code",
   "execution_count": 20,
   "metadata": {
    "collapsed": true
   },
   "outputs": [],
   "source": [
    "Base = declarative_base()"
   ]
  },
  {
   "cell_type": "code",
   "execution_count": 21,
   "metadata": {},
   "outputs": [
    {
     "data": {
      "text/plain": [
       "['crime_table', 'listings_table']"
      ]
     },
     "execution_count": 21,
     "metadata": {},
     "output_type": "execute_result"
    }
   ],
   "source": [
    "engine = create_engine(\"sqlite:///DC_airbnb.db\")\n",
    "Base = automap_base()\n",
    "Base.prepare(engine, reflect=True)\n",
    "Base.classes.keys()"
   ]
  },
  {
   "cell_type": "code",
   "execution_count": 22,
   "metadata": {
    "collapsed": true
   },
   "outputs": [],
   "source": [
    "from sqlalchemy import create_engine, MetaData, Table\n",
    "from sqlalchemy.engine.reflection import Inspector\n",
    "\n",
    "meta = MetaData()\n",
    "user_table = Table('listings_table', meta)\n",
    "insp = Inspector.from_engine(engine)\n",
    "insp.reflecttable(user_table, None)"
   ]
  },
  {
   "cell_type": "code",
   "execution_count": 23,
   "metadata": {},
   "outputs": [
    {
     "data": {
      "text/plain": [
       "sqlalchemy.ext.automap.listings_table"
      ]
     },
     "execution_count": 23,
     "metadata": {},
     "output_type": "execute_result"
    }
   ],
   "source": [
    "Listings=Base.classes.listings_table\n",
    "Listings"
   ]
  },
  {
   "cell_type": "code",
   "execution_count": 24,
   "metadata": {},
   "outputs": [
    {
     "data": {
      "text/plain": [
       "sqlalchemy.ext.automap.crime_table"
      ]
     },
     "execution_count": 24,
     "metadata": {},
     "output_type": "execute_result"
    }
   ],
   "source": [
    "Crime=Base.classes.crime_table\n",
    "Crime"
   ]
  },
  {
   "cell_type": "code",
   "execution_count": 25,
   "metadata": {},
   "outputs": [
    {
     "data": {
      "text/plain": [
       "['crime_table', 'listings_table']"
      ]
     },
     "execution_count": 25,
     "metadata": {},
     "output_type": "execute_result"
    }
   ],
   "source": [
    "inspector = inspect(engine)\n",
    "inspector.get_table_names()"
   ]
  },
  {
   "cell_type": "code",
   "execution_count": 26,
   "metadata": {},
   "outputs": [
    {
     "name": "stdout",
     "output_type": "stream",
     "text": [
      "id INTEGER\n",
      "airbnb_id INTEGER\n",
      "name VARCHAR(255)\n",
      "host_id INTEGER\n",
      "host_name VARCHAR(255)\n",
      "neighbourhood VARCHAR(255)\n",
      "latitude FLOAT\n",
      "longitude FLOAT\n",
      "room_type VARCHAR(255)\n",
      "price INTEGER\n",
      "minimum_nights INTEGER\n",
      "number_of_reviews INTEGER\n",
      "reviews_per_month FLOAT\n",
      "calculated_host_listings_count INTEGER\n",
      "availability_365 INTEGER\n"
     ]
    }
   ],
   "source": [
    "columns = inspector.get_columns('listings_table')\n",
    "for c in columns:\n",
    "    print(c['name'], c[\"type\"])"
   ]
  },
  {
   "cell_type": "code",
   "execution_count": 27,
   "metadata": {},
   "outputs": [
    {
     "name": "stdout",
     "output_type": "stream",
     "text": [
      "Mapper|listings_table|listings_table\n"
     ]
    }
   ],
   "source": [
    "from sqlalchemy import inspect\n",
    "\n",
    "mapper = inspect(Listings)\n",
    "print(mapper)"
   ]
  },
  {
   "cell_type": "code",
   "execution_count": 28,
   "metadata": {},
   "outputs": [
    {
     "name": "stdout",
     "output_type": "stream",
     "text": [
      "Mapper|crime_table|crime_table\n"
     ]
    }
   ],
   "source": [
    "from sqlalchemy import inspect\n",
    "\n",
    "mapper = inspect(Crime)\n",
    "print(mapper)"
   ]
  },
  {
   "cell_type": "code",
   "execution_count": 29,
   "metadata": {
    "collapsed": true
   },
   "outputs": [],
   "source": [
    "Session = sessionmaker(bind=engine)\n",
    "# Session is a class\n",
    "session = Session()\n",
    "# now session is a instance of the class Session"
   ]
  },
  {
   "cell_type": "code",
   "execution_count": 30,
   "metadata": {},
   "outputs": [
    {
     "data": {
      "text/plain": [
       "[(1, 4873463, b'\\x00\\x00\\x00\\x00\\x00\\x00\\x00\\x00', 7220554, 'TheoDora', 'Dupont Circle, Connecticut Avenue,K Street', 38.91518263, -77.03925945, 'Entire home,apt', 95, 2, 29, 1.01, 3, 53),\n",
       " (2, 16736650, b'\\x01\\x00\\x00\\x00\\x00\\x00\\x00\\x00', 47945335, 'Nina', 'Dupont Circle, Connecticut Avenue,K Street', 38.91258032, -77.04272065, 'Entire home,apt', 200, 1, 2, 0.55, 1, 0),\n",
       " (3, 14999877, b'\\x02\\x00\\x00\\x00\\x00\\x00\\x00\\x00', 10325135, 'Rory', 'Dupont Circle, Connecticut Avenue,K Street', 38.91706161, -77.03586862, 'Entire home,apt', 100, 27, 0, 0.0, 1, 0),\n",
       " (4, 5955860, b'\\x03\\x00\\x00\\x00\\x00\\x00\\x00\\x00', 3873893, 'Feras', 'Dupont Circle, Connecticut Avenue,K Street', 38.90981485, -77.04612379, 'Entire home,apt', 129, 2, 79, 3.13, 2, 324),\n",
       " (5, 15655208, b'\\x04\\x00\\x00\\x00\\x00\\x00\\x00\\x00', 73613929, 'Courtney', 'Dupont Circle, Connecticut Avenue,K Street', 38.91675913, -77.04034922, 'Entire home,apt', 500, 2, 1, 1.0, 1, 81)]"
      ]
     },
     "execution_count": 30,
     "metadata": {},
     "output_type": "execute_result"
    }
   ],
   "source": [
    "engine.execute('SELECT * FROM listings_table LIMIT 5').fetchall()"
   ]
  },
  {
   "cell_type": "code",
   "execution_count": 31,
   "metadata": {},
   "outputs": [
    {
     "data": {
      "text/plain": [
       "[(1, 'Cluster 18', 1411, 'Brightwood Park, Crestwood, Petworth', 4.314456947162427),\n",
       " (2, 'Cluster 22', 1244, 'Brookland, Brentwood, Langdon', 3.803816046966732),\n",
       " (3, 'Cluster 26', 1461, 'Capitol Hill, Lincoln Park', 4.467343444227006),\n",
       " (4, 'Cluster 33', 923, 'Capitol View, Marshall Heights, Benning Heights', 2.8222847358121337),\n",
       " (5, 'Cluster 14', 235, 'Cathedral Heights, McLean Gardens, Glover Park', 0.7185665362035225),\n",
       " (6, 'Cluster 15', 328, 'Cleveland Park, Woodley Park, Massachusetts Avenue Heights, Woodland-Normanstone Terrace', 1.0029354207436398),\n",
       " (7, 'Cluster 16', 150, 'Colonial Village, Shepherd Park, North Portal Estates', 0.4586594911937377),\n",
       " (8, 'Cluster 2', 2654, 'Columbia Heights, Mt. Pleasant, Pleasant Plains, Park View', 8.115215264187867),\n",
       " (9, 'Cluster 39', 1284, 'Congress Heights, Bellevue, Washington Highlands', 3.926125244618396),\n",
       " (10, 'Cluster 31', 950, 'Deanwood, Burrville, Grant Park, Lincoln Heights, Fairmont Heights', 2.9048434442270064),\n",
       " (11, 'Cluster 38', 568, 'Douglas, Shipley Terrace', 1.7367906066536205),\n",
       " (12, 'Cluster 8', 2307, 'Downtown, Chinatown, Penn Quarters, Mount Vernon Square, North Capitol Street', 7.054182974559686),\n",
       " (13, 'Cluster 6', 1605, 'Dupont Circle, Connecticut Avenue,K Street', 4.907656555772994),\n",
       " (14, 'Cluster 29', 77, 'Eastland Gardens, Kenilworth', 0.23544520547945205),\n",
       " (15, 'Cluster 21', 1103, 'Edgewood, Bloomingdale, Truxton Circle, Eckington', 3.3726761252446185),\n",
       " (16, 'Cluster 35', 377, 'Fairfax Village, Naylor Gardens, Hillcrest, Summit Park', 1.1527641878669277),\n",
       " (17, 'Cluster 11', 508, 'Friendship Heights, American University Park, Tenleytown', 1.5533268101761248),\n",
       " (18, 'Cluster 4', 1064, 'Georgetown, Burleith,Hillandale', 3.2534246575342465),\n",
       " (19, 'Cluster 10', 256, 'Hawthorne, Barnaby Woods, Chevy Chase', 0.7827788649706457),\n",
       " (20, 'Cluster 28', 378, 'Historic Anacostia', 1.1558219178082192),\n",
       " (21, 'Cluster 3', 1459, 'Howard University, Le Droit Park, Cardozo,Shaw', 4.461227984344423),\n",
       " (22, 'Cluster 23', 1403, 'Ivy City, Arboretum, Trinidad, Carver Langston', 4.2899951076320955),\n",
       " (23, 'Cluster 1', 713, 'Kalorama Heights, Adams Morgan, Lanier Heights', 2.1801614481409004),\n",
       " (24, 'Cluster 19', 525, 'Lamont Riggs, Queens Chapel, Fort Totten, Pleasant Hill', 1.6053082191780823),\n",
       " (25, 'Cluster 30', 548, 'Mayfair, Hillbrook, Mahaning Heights', 1.6756360078277883),\n",
       " (26, 'Cluster 27', 292, 'Near Southeast, Navy Yard', 0.8928571428571428),\n",
       " (27, 'Cluster 12', 180, 'North Cleveland Park, Forest Hills, Van Ness', 0.5503913894324853),\n",
       " (28, 'Cluster 20', 355, 'North Michigan Park, Michigan Park, University Heights', 1.0854941291585127),\n",
       " (29, 'Cluster 32', 828, 'River Terrace, Benning, Greenway, Dupont Park', 2.5318003913894325),\n",
       " (30, 'Cluster 7', 1169, 'Shaw, Logan Circle', 3.5744863013698627),\n",
       " (31, 'Cluster 37', 406, 'Sheridan, Barry Farm, Buena Vista', 1.2414383561643836),\n",
       " (32, 'Cluster 9', 688, 'Southwest Employment Area, Southwest,Waterfront, Fort McNair, Buzzard Point', 2.1037181996086103),\n",
       " (33, 'Cluster 13', 197, 'Spring Valley, Palisades, Wesley Heights, Foxhall Crescent, Foxhall Village, Georgetown Reservoir', 0.6023727984344422),\n",
       " (34, 'Cluster 17', 891, 'Takoma, Brightwood, Manor Park', 2.7244373776908017),\n",
       " (35, 'Cluster 34', 814, 'Twining, Fairlawn, Randle Highlands, Penn Branch, Fort Davis Park, Fort Dupont', 2.48899217221135),\n",
       " (36, 'Cluster 25', 1918, 'Union Station, Stanton Park, Kingman Park', 5.8647260273972615),\n",
       " (37, 'Cluster 5', 547, 'West End, Foggy Bottom, GWU', 1.6725782778864968),\n",
       " (38, 'Cluster 36', 299, 'Woodland,Fort Stanton, Garfield Heights, Knox Hill', 0.9142612524461841),\n",
       " (39, 'Cluster 24', 589, 'Woodridge, Fort Lincoln, Gateway', 1.8010029354207435)]"
      ]
     },
     "execution_count": 31,
     "metadata": {},
     "output_type": "execute_result"
    }
   ],
   "source": [
    "engine.execute('SELECT * FROM crime_table').fetchall()"
   ]
  },
  {
   "cell_type": "code",
   "execution_count": 32,
   "metadata": {},
   "outputs": [
    {
     "name": "stdout",
     "output_type": "stream",
     "text": [
      "b'\\x01\\x00\\x00\\x00\\x00\\x00\\x00\\x00'\n",
      "b'\\x02\\x00\\x00\\x00\\x00\\x00\\x00\\x00'\n"
     ]
    }
   ],
   "source": [
    "for instance in session.query(Listings)[1:3]:\n",
    "    print(instance.name)"
   ]
  },
  {
   "cell_type": "code",
   "execution_count": 33,
   "metadata": {},
   "outputs": [
    {
     "data": {
      "text/plain": [
       "2"
      ]
     },
     "execution_count": 33,
     "metadata": {},
     "output_type": "execute_result"
    }
   ],
   "source": [
    "import struct\n",
    "value = struct.unpack('<q', b'\\x02\\x00\\x00\\x00\\x00\\x00\\x00\\x00')\n",
    "value\n",
    "\n",
    "value[0]\n"
   ]
  },
  {
   "cell_type": "code",
   "execution_count": null,
   "metadata": {
    "collapsed": true
   },
   "outputs": [],
   "source": []
  },
  {
   "cell_type": "code",
   "execution_count": null,
   "metadata": {
    "collapsed": true
   },
   "outputs": [],
   "source": []
  }
 ],
 "metadata": {
  "kernelspec": {
   "display_name": "Python 3",
   "language": "python",
   "name": "python3"
  },
  "language_info": {
   "codemirror_mode": {
    "name": "ipython",
    "version": 3
   },
   "file_extension": ".py",
   "mimetype": "text/x-python",
   "name": "python",
   "nbconvert_exporter": "python",
   "pygments_lexer": "ipython3",
   "version": "3.6.3"
  }
 },
 "nbformat": 4,
 "nbformat_minor": 2
}
